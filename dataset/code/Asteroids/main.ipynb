{
 "cells": [
  {
   "cell_type": "markdown",
   "metadata": {},
   "source": [
    " # Asteroid Data Analysis\n",
    " \n",
    "   ![Laser Ablation](Asteroid_Belt.png)"
   ]
  },
  {
   "cell_type": "code",
   "execution_count": 1,
   "metadata": {},
   "outputs": [
    {
     "name": "stderr",
     "output_type": "stream",
     "text": [
      "/usr/local/lib/python3.7/site-packages/matplotlib/__init__.py:886: MatplotlibDeprecationWarning: \n",
      "examples.directory is deprecated; in the future, examples will be found relative to the 'datapath' directory.\n",
      "  \"found relative to the 'datapath' directory.\".format(key))\n"
     ]
    }
   ],
   "source": [
    "# Required Libraries\n",
    "import psycopg2\n",
    "import pandas as pd\n",
    "import seaborn as sns\n",
    "import plotly.express as px\n",
    "import matplotlib.pyplot as plt\n",
    "import numpy as np\n",
    "import plotly.graph_objects as go\n",
    "from sqlalchemy import create_engine\n",
    "from mpl_toolkits.mplot3d import Axes3D"
   ]
  },
  {
   "cell_type": "code",
   "execution_count": 2,
   "metadata": {},
   "outputs": [],
   "source": [
    "#Connecting to the engine and retriving data\n",
    "engine = create_engine('postgresql://akshen:da@123@127.0.0.1:5432/asteroids')\n",
    "rnvdf = pd.read_sql_table('asteroid_data', engine)\n",
    "apvdf = pd.read_sql_table('asteroids_potential_value', engine)\n",
    "loeadf = pd.read_sql_table('loea_largest_by_diameter', engine)"
   ]
  },
  {
   "cell_type": "code",
   "execution_count": 3,
   "metadata": {},
   "outputs": [
    {
     "data": {
      "text/plain": [
       "(843784, 8)"
      ]
     },
     "execution_count": 3,
     "metadata": {},
     "output_type": "execute_result"
    }
   ],
   "source": [
    "rnvdf_copy = rnvdf.copy()\n",
    "rnvdf.shape"
   ]
  },
  {
   "cell_type": "code",
   "execution_count": 4,
   "metadata": {},
   "outputs": [],
   "source": [
    "rnvdf.columns\n",
    "rnvdf.drop(rnvdf.columns[1], axis=1, inplace=True)"
   ]
  },
  {
   "cell_type": "markdown",
   "metadata": {},
   "source": [
    "# Identifying Potential Hazardous Asteroids \n",
    "#### An object is classified as a potentially hazardous object (PHO) – that is, posing a possible risk to Earth – if, among other conditions, its Earth MOID is less than 0.05 AU.\n",
    "> A low MOID does not mean that a collision is inevitable as the planets frequently perturb the orbit of small bodies. It is also necessary that the two bodies reach that point in their orbits at the same time before the smaller body is perturbed into a different orbit with a different MOID value. Two Objects gravitationally locked in orbital resonance may never approach one another."
   ]
  },
  {
   "cell_type": "code",
   "execution_count": 5,
   "metadata": {},
   "outputs": [
    {
     "data": {
      "text/plain": [
       "N    833421\n",
       "Y     10363\n",
       "Name: pha, dtype: int64"
      ]
     },
     "execution_count": 5,
     "metadata": {},
     "output_type": "execute_result"
    }
   ],
   "source": [
    "mean_v = rnvdf['moid'].mean()\n",
    "rnvdf['moid'].fillna(mean_v, inplace=True)\n",
    "pha = []\n",
    "for i, row in rnvdf.iterrows():\n",
    "     pha.append('Y' if float(row[4]) < 0.05 else 'N')\n",
    "rnvdf['pha'] = pha\n",
    "rnvdf['pha'].value_counts()"
   ]
  },
  {
   "cell_type": "code",
   "execution_count": 28,
   "metadata": {},
   "outputs": [
    {
     "data": {
      "image/png": "[encoded data removed]",
      "text/plain": [
       "<Figure size 432x288 with 1 Axes>"
      ]
     },
     "metadata": {},
     "output_type": "display_data"
    }
   ],
   "source": [
    "colors = ['#66ff96','#ff9999']\n",
    "label = ['Non-PHA', 'PHA']\n",
    "plt.pie(rnvdf['pha'].value_counts(), colors=colors,\n",
    "       shadow=True, labels=label)"
   ]
  },
  {
   "cell_type": "code",
   "execution_count": 7,
   "metadata": {},
   "outputs": [],
   "source": [
    "rnvdf['neo_pha'] = (rnvdf.neo == 'Y') & (rnvdf.pha == 'Y')"
   ]
  },
  {
   "cell_type": "code",
   "execution_count": 8,
   "metadata": {},
   "outputs": [
    {
     "data": {
      "text/plain": [
       "False    833447\n",
       "True      10337\n",
       "Name: neo_pha, dtype: int64"
      ]
     },
     "execution_count": 8,
     "metadata": {},
     "output_type": "execute_result"
    }
   ],
   "source": [
    "rnvdf['neo_pha'].value_counts()"
   ]
  },
  {
   "cell_type": "code",
   "execution_count": 30,
   "metadata": {},
   "outputs": [
    {
     "data": {
      "text/plain": [
       "index             649226\n",
       "full_name    (2011 KE15)\n",
       "neo                    Y\n",
       "moid_jup         2.75136\n",
       "moid         3.43764e-07\n",
       "producer      Otto Matic\n",
       "rot_per              NaN\n",
       "pha                    Y\n",
       "neo_pha             True\n",
       "Name: 649226, dtype: object"
      ]
     },
     "execution_count": 30,
     "metadata": {},
     "output_type": "execute_result"
    }
   ],
   "source": [
    "rnvdf.loc[rnvdf['moid'].idxmin()]"
   ]
  },
  {
   "cell_type": "markdown",
   "metadata": {},
   "source": [
    "### Asteroid laser ablation is a proposed method for deflecting asteroids, involving the use of a laser array to alter the orbit of an asteroid. Laser Ablation works by heating up a substance enough to allow gaseous material to eject, either through sublimation (solid to gas) or vaporization (liquid to gas).\n",
    "\n",
    "![Laser Ablation](ne0710-planetary-defense.jpg)"
   ]
  },
  {
   "cell_type": "markdown",
   "metadata": {},
   "source": [
    "## Asteroid Mining"
   ]
  },
  {
   "cell_type": "code",
   "execution_count": 12,
   "metadata": {},
   "outputs": [],
   "source": [
    "loeadf = loeadf.rename(columns={\"Name\": \"full_name\"}) \n",
    "rnvdf['full_name']= rnvdf.full_name.str.strip()"
   ]
  },
  {
   "cell_type": "code",
   "execution_count": 52,
   "metadata": {},
   "outputs": [
    {
     "data": {
      "text/html": [
       "<div>\n",
       "<style scoped>\n",
       "    .dataframe tbody tr th:only-of-type {\n",
       "        vertical-align: middle;\n",
       "    }\n",
       "\n",
       "    .dataframe tbody tr th {\n",
       "        vertical-align: top;\n",
       "    }\n",
       "\n",
       "    .dataframe thead th {\n",
       "        text-align: right;\n",
       "    }\n",
       "</style>\n",
       "<table border=\"1\" class=\"dataframe\">\n",
       "  <thead>\n",
       "    <tr style=\"text-align: right;\">\n",
       "      <th></th>\n",
       "      <th>index_x</th>\n",
       "      <th>full_name</th>\n",
       "      <th>neo</th>\n",
       "      <th>moid_jup</th>\n",
       "      <th>moid</th>\n",
       "      <th>producer</th>\n",
       "      <th>rot_per</th>\n",
       "      <th>pha</th>\n",
       "      <th>neo_pha</th>\n",
       "      <th>index_y</th>\n",
       "      <th>Diameter_in_km_geometric_mean</th>\n",
       "      <th>Dimension_in_km</th>\n",
       "      <th>Mean distance from Sun_in_AU</th>\n",
       "      <th>Date discovered</th>\n",
       "      <th>Discoverer</th>\n",
       "      <th>Class</th>\n",
       "    </tr>\n",
       "  </thead>\n",
       "  <tbody>\n",
       "    <tr>\n",
       "      <th>0</th>\n",
       "      <td>0</td>\n",
       "      <td>1 Ceres</td>\n",
       "      <td>N</td>\n",
       "      <td>2.09753</td>\n",
       "      <td>1.594780</td>\n",
       "      <td>Davide Farnocchia</td>\n",
       "      <td>9.074170</td>\n",
       "      <td>N</td>\n",
       "      <td>False</td>\n",
       "      <td>0</td>\n",
       "      <td>939.4±0.2</td>\n",
       "      <td>964.4 × 964.2 × 891.8</td>\n",
       "      <td>2.766</td>\n",
       "      <td>January 1, 1801</td>\n",
       "      <td>Piazzi, G.</td>\n",
       "      <td>G</td>\n",
       "    </tr>\n",
       "    <tr>\n",
       "      <th>1</th>\n",
       "      <td>1</td>\n",
       "      <td>2 Pallas</td>\n",
       "      <td>N</td>\n",
       "      <td>1.85493</td>\n",
       "      <td>1.233240</td>\n",
       "      <td>Otto Matic</td>\n",
       "      <td>7.813200</td>\n",
       "      <td>N</td>\n",
       "      <td>False</td>\n",
       "      <td>2</td>\n",
       "      <td>512±3</td>\n",
       "      <td>550±4 × 516±3 × 476±3 km[2]</td>\n",
       "      <td>2.773</td>\n",
       "      <td>March 28, 1802</td>\n",
       "      <td>Olbers, H. W.</td>\n",
       "      <td>B</td>\n",
       "    </tr>\n",
       "    <tr>\n",
       "      <th>2</th>\n",
       "      <td>2</td>\n",
       "      <td>3 Juno</td>\n",
       "      <td>N</td>\n",
       "      <td>2.18657</td>\n",
       "      <td>1.034540</td>\n",
       "      <td>Otto Matic</td>\n",
       "      <td>7.210000</td>\n",
       "      <td>N</td>\n",
       "      <td>False</td>\n",
       "      <td>10</td>\n",
       "      <td>258</td>\n",
       "      <td>320×267×200</td>\n",
       "      <td>2.672</td>\n",
       "      <td>September 1, 1804</td>\n",
       "      <td>Harding, K. L.</td>\n",
       "      <td>S</td>\n",
       "    </tr>\n",
       "    <tr>\n",
       "      <th>3</th>\n",
       "      <td>3</td>\n",
       "      <td>4 Vesta</td>\n",
       "      <td>N</td>\n",
       "      <td>2.46988</td>\n",
       "      <td>1.139480</td>\n",
       "      <td>Davide Farnocchia</td>\n",
       "      <td>5.342128</td>\n",
       "      <td>N</td>\n",
       "      <td>False</td>\n",
       "      <td>1</td>\n",
       "      <td>525.4±0.2</td>\n",
       "      <td>572.6 × 557.2 × 446.4 ± 0.2</td>\n",
       "      <td>2.362</td>\n",
       "      <td>March 29, 1807</td>\n",
       "      <td>Olbers, H. W.</td>\n",
       "      <td>V</td>\n",
       "    </tr>\n",
       "    <tr>\n",
       "      <th>4</th>\n",
       "      <td>5</td>\n",
       "      <td>6 Hebe</td>\n",
       "      <td>N</td>\n",
       "      <td>2.63580</td>\n",
       "      <td>0.973965</td>\n",
       "      <td>Otto Matic</td>\n",
       "      <td>7.274500</td>\n",
       "      <td>N</td>\n",
       "      <td>False</td>\n",
       "      <td>33</td>\n",
       "      <td>186</td>\n",
       "      <td>205x185x170</td>\n",
       "      <td>2.426</td>\n",
       "      <td>July 1, 1847</td>\n",
       "      <td>Hencke, K. L.</td>\n",
       "      <td>S</td>\n",
       "    </tr>\n",
       "  </tbody>\n",
       "</table>\n",
       "</div>"
      ],
      "text/plain": [
       "   index_x full_name neo  moid_jup      moid           producer   rot_per pha  \\\n",
       "0        0   1 Ceres   N   2.09753  1.594780  Davide Farnocchia  9.074170   N   \n",
       "1        1  2 Pallas   N   1.85493  1.233240         Otto Matic  7.813200   N   \n",
       "2        2    3 Juno   N   2.18657  1.034540         Otto Matic  7.210000   N   \n",
       "3        3   4 Vesta   N   2.46988  1.139480  Davide Farnocchia  5.342128   N   \n",
       "4        5    6 Hebe   N   2.63580  0.973965         Otto Matic  7.274500   N   \n",
       "\n",
       "   neo_pha  index_y Diameter_in_km_geometric_mean  \\\n",
       "0    False        0                     939.4±0.2   \n",
       "1    False        2                         512±3   \n",
       "2    False       10                           258   \n",
       "3    False        1                     525.4±0.2   \n",
       "4    False       33                           186   \n",
       "\n",
       "               Dimension_in_km  Mean distance from Sun_in_AU  \\\n",
       "0        964.4 × 964.2 × 891.8                         2.766   \n",
       "1  550±4 × 516±3 × 476±3 km[2]                         2.773   \n",
       "2                  320×267×200                         2.672   \n",
       "3  572.6 × 557.2 × 446.4 ± 0.2                         2.362   \n",
       "4                  205x185x170                         2.426   \n",
       "\n",
       "     Date discovered      Discoverer Class  \n",
       "0    January 1, 1801      Piazzi, G.     G  \n",
       "1     March 28, 1802   Olbers, H. W.     B  \n",
       "2  September 1, 1804  Harding, K. L.     S  \n",
       "3     March 29, 1807   Olbers, H. W.     V  \n",
       "4       July 1, 1847   Hencke, K. L.     S  "
      ]
     },
     "execution_count": 52,
     "metadata": {},
     "output_type": "execute_result"
    }
   ],
   "source": [
    "merge = pd.merge(left=rnvdf, right=loeadf, left_on='full_name', right_on='full_name')\n",
    "merge.shape\n",
    "merge.head()"
   ]
  },
  {
   "cell_type": "code",
   "execution_count": 73,
   "metadata": {},
   "outputs": [
    {
     "data": {
      "text/plain": [
       "index_x                                              0\n",
       "full_name                                      1 Ceres\n",
       "neo                                                  N\n",
       "moid_jup                                       2.09753\n",
       "moid                                           1.59478\n",
       "producer                             Davide Farnocchia\n",
       "rot_per                                        9.07417\n",
       "pha                                                  N\n",
       "neo_pha                                          False\n",
       "index_y                                              0\n",
       "Diameter_in_km_geometric_mean                939.4±0.2\n",
       "Dimension_in_km                  964.4 × 964.2 × 891.8\n",
       "Mean distance from Sun_in_AU                     2.766\n",
       "Date discovered                        January 1, 1801\n",
       "Discoverer                                  Piazzi, G.\n",
       "Class                                                G\n",
       "Name: 0, dtype: object"
      ]
     },
     "execution_count": 73,
     "metadata": {},
     "output_type": "execute_result"
    }
   ],
   "source": [
    "#Biggest Asteroid\n",
    "biggest_asteroid = [float(x.split('±')[0]) for x in merge.Diameter_in_km_geometric_mean.values]\n",
    "merge.iloc[biggest_asteroid.index(max(biggest_asteroid))]"
   ]
  },
  {
   "cell_type": "code",
   "execution_count": 17,
   "metadata": {},
   "outputs": [
    {
     "data": {
      "application/vnd.plotly.v1+json": {
       "config": {
        "plotlyServerURL": "https://plot.ly"
       },
       "data": [
        {
         "alignmentgroup": "True",
         "hoverlabel": {
          "namelength": 0
         },
         "hovertemplate": "color=#1f77b4<br>Class=%{x}<br>Count=%{y}",
         "legendgroup": "color=#1f77b4",
         "marker": {
          "color": "#636efa"
         },
         "name": "color=#1f77b4",
         "offsetgroup": "color=#1f77b4",
         "orientation": "v",
         "showlegend": true,
         "textposition": "auto",
         "type": "bar",
         "x": [
          "C"
         ],
         "xaxis": "x",
         "y": [
          13
         ],
         "yaxis": "y"
        },
        {
         "alignmentgroup": "True",
         "hoverlabel": {
          "namelength": 0
         },
         "hovertemplate": "color=#ff7f0e<br>Class=%{x}<br>Count=%{y}",
         "legendgroup": "color=#ff7f0e",
         "marker": {
          "color": "#EF553B"
         },
         "name": "color=#ff7f0e",
         "offsetgroup": "color=#ff7f0e",
         "orientation": "v",
         "showlegend": true,
         "textposition": "auto",
         "type": "bar",
         "x": [
          "S"
         ],
         "xaxis": "x",
         "y": [
          6
         ],
         "yaxis": "y"
        },
        {
         "alignmentgroup": "True",
         "hoverlabel": {
          "namelength": 0
         },
         "hovertemplate": "color=#2ca02c<br>Class=%{x}<br>Count=%{y}",
         "legendgroup": "color=#2ca02c",
         "marker": {
          "color": "#00cc96"
         },
         "name": "color=#2ca02c",
         "offsetgroup": "color=#2ca02c",
         "orientation": "v",
         "showlegend": true,
         "textposition": "auto",
         "type": "bar",
         "x": [
          "G"
         ],
         "xaxis": "x",
         "y": [
          3
         ],
         "yaxis": "y"
        },
        {
         "alignmentgroup": "True",
         "hoverlabel": {
          "namelength": 0
         },
         "hovertemplate": "color=#d62728<br>Class=%{x}<br>Count=%{y}",
         "legendgroup": "color=#d62728",
         "marker": {
          "color": "#ab63fa"
         },
         "name": "color=#d62728",
         "offsetgroup": "color=#d62728",
         "orientation": "v",
         "showlegend": true,
         "textposition": "auto",
         "type": "bar",
         "x": [
          "B"
         ],
         "xaxis": "x",
         "y": [
          2
         ],
         "yaxis": "y"
        },
        {
         "alignmentgroup": "True",
         "hoverlabel": {
          "namelength": 0
         },
         "hovertemplate": "color=#9467bd<br>Class=%{x}<br>Count=%{y}",
         "legendgroup": "color=#9467bd",
         "marker": {
          "color": "#FFA15A"
         },
         "name": "color=#9467bd",
         "offsetgroup": "color=#9467bd",
         "orientation": "v",
         "showlegend": true,
         "textposition": "auto",
         "type": "bar",
         "x": [
          "V"
         ],
         "xaxis": "x",
         "y": [
          1
         ],
         "yaxis": "y"
        },
        {
         "alignmentgroup": "True",
         "hoverlabel": {
          "namelength": 0
         },
         "hovertemplate": "color=#8c564b<br>Class=%{x}<br>Count=%{y}",
         "legendgroup": "color=#8c564b",
         "marker": {
          "color": "#19d3f3"
         },
         "name": "color=#8c564b",
         "offsetgroup": "color=#8c564b",
         "orientation": "v",
         "showlegend": true,
         "textposition": "auto",
         "type": "bar",
         "x": [
          "M"
         ],
         "xaxis": "x",
         "y": [
          1
         ],
         "yaxis": "y"
        },
        {
         "alignmentgroup": "True",
         "hoverlabel": {
          "namelength": 0
         },
         "hovertemplate": "color=#e377c2<br>Class=%{x}<br>Count=%{y}",
         "legendgroup": "color=#e377c2",
         "marker": {
          "color": "#FF6692"
         },
         "name": "color=#e377c2",
         "offsetgroup": "color=#e377c2",
         "orientation": "v",
         "showlegend": true,
         "textposition": "auto",
         "type": "bar",
         "x": [
          "C/P/X"
         ],
         "xaxis": "x",
         "y": [
          1
         ],
         "yaxis": "y"
        },
        {
         "alignmentgroup": "True",
         "hoverlabel": {
          "namelength": 0
         },
         "hovertemplate": "color=#7f7f7f<br>Class=%{x}<br>Count=%{y}",
         "legendgroup": "color=#7f7f7f",
         "marker": {
          "color": "#B6E880"
         },
         "name": "color=#7f7f7f",
         "offsetgroup": "color=#7f7f7f",
         "orientation": "v",
         "showlegend": true,
         "textposition": "auto",
         "type": "bar",
         "x": [
          "X"
         ],
         "xaxis": "x",
         "y": [
          1
         ],
         "yaxis": "y"
        },
        {
         "alignmentgroup": "True",
         "hoverlabel": {
          "namelength": 0
         },
         "hovertemplate": "color=#bcbd22<br>Class=%{x}<br>Count=%{y}",
         "legendgroup": "color=#bcbd22",
         "marker": {
          "color": "#FF97FF"
         },
         "name": "color=#bcbd22",
         "offsetgroup": "color=#bcbd22",
         "orientation": "v",
         "showlegend": true,
         "textposition": "auto",
         "type": "bar",
         "x": [
          "F"
         ],
         "xaxis": "x",
         "y": [
          1
         ],
         "yaxis": "y"
        }
       ],
       "layout": {
        "barmode": "relative",
        "height": 600,
        "legend": {
         "tracegroupgap": 0
        },
        "margin": {
         "t": 60
        },
        "showlegend": false,
        "template": {
         "data": {
          "bar": [
           {
            "error_x": {
             "color": "#2a3f5f"
            },
            "error_y": {
             "color": "#2a3f5f"
            },
            "marker": {
             "line": {
              "color": "#E5ECF6",
              "width": 0.5
             }
            },
            "type": "bar"
           }
          ],
          "barpolar": [
           {
            "marker": {
             "line": {
              "color": "#E5ECF6",
              "width": 0.5
             }
            },
            "type": "barpolar"
           }
          ],
          "carpet": [
           {
            "aaxis": {
             "endlinecolor": "#2a3f5f",
             "gridcolor": "white",
             "linecolor": "white",
             "minorgridcolor": "white",
             "startlinecolor": "#2a3f5f"
            },
            "baxis": {
             "endlinecolor": "#2a3f5f",
             "gridcolor": "white",
             "linecolor": "white",
             "minorgridcolor": "white",
             "startlinecolor": "#2a3f5f"
            },
            "type": "carpet"
           }
          ],
          "choropleth": [
           {
            "colorbar": {
             "outlinewidth": 0,
             "ticks": ""
            },
            "type": "choropleth"
           }
          ],
          "contour": [
           {
            "colorbar": {
             "outlinewidth": 0,
             "ticks": ""
            },
            "colorscale": [
             [
              0,
              "#0d0887"
             ],
             [
              0.1111111111111111,
              "#46039f"
             ],
             [
              0.2222222222222222,
              "#7201a8"
             ],
             [
              0.3333333333333333,
              "#9c179e"
             ],
             [
              0.4444444444444444,
              "#bd3786"
             ],
             [
              0.5555555555555556,
              "#d8576b"
             ],
             [
              0.6666666666666666,
              "#ed7953"
             ],
             [
              0.7777777777777778,
              "#fb9f3a"
             ],
             [
              0.8888888888888888,
              "#fdca26"
             ],
             [
              1,
              "#f0f921"
             ]
            ],
            "type": "contour"
           }
          ],
          "contourcarpet": [
           {
            "colorbar": {
             "outlinewidth": 0,
             "ticks": ""
            },
            "type": "contourcarpet"
           }
          ],
          "heatmap": [
           {
            "colorbar": {
             "outlinewidth": 0,
             "ticks": ""
            },
            "colorscale": [
             [
              0,
              "#0d0887"
             ],
             [
              0.1111111111111111,
              "#46039f"
             ],
             [
              0.2222222222222222,
              "#7201a8"
             ],
             [
              0.3333333333333333,
              "#9c179e"
             ],
             [
              0.4444444444444444,
              "#bd3786"
             ],
             [
              0.5555555555555556,
              "#d8576b"
             ],
             [
              0.6666666666666666,
              "#ed7953"
             ],
             [
              0.7777777777777778,
              "#fb9f3a"
             ],
             [
              0.8888888888888888,
              "#fdca26"
             ],
             [
              1,
              "#f0f921"
             ]
            ],
            "type": "heatmap"
           }
          ],
          "heatmapgl": [
           {
            "colorbar": {
             "outlinewidth": 0,
             "ticks": ""
            },
            "colorscale": [
             [
              0,
              "#0d0887"
             ],
             [
              0.1111111111111111,
              "#46039f"
             ],
             [
              0.2222222222222222,
              "#7201a8"
             ],
             [
              0.3333333333333333,
              "#9c179e"
             ],
             [
              0.4444444444444444,
              "#bd3786"
             ],
             [
              0.5555555555555556,
              "#d8576b"
             ],
             [
              0.6666666666666666,
              "#ed7953"
             ],
             [
              0.7777777777777778,
              "#fb9f3a"
             ],
             [
              0.8888888888888888,
              "#fdca26"
             ],
             [
              1,
              "#f0f921"
             ]
            ],
            "type": "heatmapgl"
           }
          ],
          "histogram": [
           {
            "marker": {
             "colorbar": {
              "outlinewidth": 0,
              "ticks": ""
             }
            },
            "type": "histogram"
           }
          ],
          "histogram2d": [
           {
            "colorbar": {
             "outlinewidth": 0,
             "ticks": ""
            },
            "colorscale": [
             [
              0,
              "#0d0887"
             ],
             [
              0.1111111111111111,
              "#46039f"
             ],
             [
              0.2222222222222222,
              "#7201a8"
             ],
             [
              0.3333333333333333,
              "#9c179e"
             ],
             [
              0.4444444444444444,
              "#bd3786"
             ],
             [
              0.5555555555555556,
              "#d8576b"
             ],
             [
              0.6666666666666666,
              "#ed7953"
             ],
             [
              0.7777777777777778,
              "#fb9f3a"
             ],
             [
              0.8888888888888888,
              "#fdca26"
             ],
             [
              1,
              "#f0f921"
             ]
            ],
            "type": "histogram2d"
           }
          ],
          "histogram2dcontour": [
           {
            "colorbar": {
             "outlinewidth": 0,
             "ticks": ""
            },
            "colorscale": [
             [
              0,
              "#0d0887"
             ],
             [
              0.1111111111111111,
              "#46039f"
             ],
             [
              0.2222222222222222,
              "#7201a8"
             ],
             [
              0.3333333333333333,
              "#9c179e"
             ],
             [
              0.4444444444444444,
              "#bd3786"
             ],
             [
              0.5555555555555556,
              "#d8576b"
             ],
             [
              0.6666666666666666,
              "#ed7953"
             ],
             [
              0.7777777777777778,
              "#fb9f3a"
             ],
             [
              0.8888888888888888,
              "#fdca26"
             ],
             [
              1,
              "#f0f921"
             ]
            ],
            "type": "histogram2dcontour"
           }
          ],
          "mesh3d": [
           {
            "colorbar": {
             "outlinewidth": 0,
             "ticks": ""
            },
            "type": "mesh3d"
           }
          ],
          "parcoords": [
           {
            "line": {
             "colorbar": {
              "outlinewidth": 0,
              "ticks": ""
             }
            },
            "type": "parcoords"
           }
          ],
          "scatter": [
           {
            "marker": {
             "colorbar": {
              "outlinewidth": 0,
              "ticks": ""
             }
            },
            "type": "scatter"
           }
          ],
          "scatter3d": [
           {
            "line": {
             "colorbar": {
              "outlinewidth": 0,
              "ticks": ""
             }
            },
            "marker": {
             "colorbar": {
              "outlinewidth": 0,
              "ticks": ""
             }
            },
            "type": "scatter3d"
           }
          ],
          "scattercarpet": [
           {
            "marker": {
             "colorbar": {
              "outlinewidth": 0,
              "ticks": ""
             }
            },
            "type": "scattercarpet"
           }
          ],
          "scattergeo": [
           {
            "marker": {
             "colorbar": {
              "outlinewidth": 0,
              "ticks": ""
             }
            },
            "type": "scattergeo"
           }
          ],
          "scattergl": [
           {
            "marker": {
             "colorbar": {
              "outlinewidth": 0,
              "ticks": ""
             }
            },
            "type": "scattergl"
           }
          ],
          "scattermapbox": [
           {
            "marker": {
             "colorbar": {
              "outlinewidth": 0,
              "ticks": ""
             }
            },
            "type": "scattermapbox"
           }
          ],
          "scatterpolar": [
           {
            "marker": {
             "colorbar": {
              "outlinewidth": 0,
              "ticks": ""
             }
            },
            "type": "scatterpolar"
           }
          ],
          "scatterpolargl": [
           {
            "marker": {
             "colorbar": {
              "outlinewidth": 0,
              "ticks": ""
             }
            },
            "type": "scatterpolargl"
           }
          ],
          "scatterternary": [
           {
            "marker": {
             "colorbar": {
              "outlinewidth": 0,
              "ticks": ""
             }
            },
            "type": "scatterternary"
           }
          ],
          "surface": [
           {
            "colorbar": {
             "outlinewidth": 0,
             "ticks": ""
            },
            "colorscale": [
             [
              0,
              "#0d0887"
             ],
             [
              0.1111111111111111,
              "#46039f"
             ],
             [
              0.2222222222222222,
              "#7201a8"
             ],
             [
              0.3333333333333333,
              "#9c179e"
             ],
             [
              0.4444444444444444,
              "#bd3786"
             ],
             [
              0.5555555555555556,
              "#d8576b"
             ],
             [
              0.6666666666666666,
              "#ed7953"
             ],
             [
              0.7777777777777778,
              "#fb9f3a"
             ],
             [
              0.8888888888888888,
              "#fdca26"
             ],
             [
              1,
              "#f0f921"
             ]
            ],
            "type": "surface"
           }
          ],
          "table": [
           {
            "cells": {
             "fill": {
              "color": "#EBF0F8"
             },
             "line": {
              "color": "white"
             }
            },
            "header": {
             "fill": {
              "color": "#C8D4E3"
             },
             "line": {
              "color": "white"
             }
            },
            "type": "table"
           }
          ]
         },
         "layout": {
          "annotationdefaults": {
           "arrowcolor": "#2a3f5f",
           "arrowhead": 0,
           "arrowwidth": 1
          },
          "colorscale": {
           "diverging": [
            [
             0,
             "#8e0152"
            ],
            [
             0.1,
             "#c51b7d"
            ],
            [
             0.2,
             "#de77ae"
            ],
            [
             0.3,
             "#f1b6da"
            ],
            [
             0.4,
             "#fde0ef"
            ],
            [
             0.5,
             "#f7f7f7"
            ],
            [
             0.6,
             "#e6f5d0"
            ],
            [
             0.7,
             "#b8e186"
            ],
            [
             0.8,
             "#7fbc41"
            ],
            [
             0.9,
             "#4d9221"
            ],
            [
             1,
             "#276419"
            ]
           ],
           "sequential": [
            [
             0,
             "#0d0887"
            ],
            [
             0.1111111111111111,
             "#46039f"
            ],
            [
             0.2222222222222222,
             "#7201a8"
            ],
            [
             0.3333333333333333,
             "#9c179e"
            ],
            [
             0.4444444444444444,
             "#bd3786"
            ],
            [
             0.5555555555555556,
             "#d8576b"
            ],
            [
             0.6666666666666666,
             "#ed7953"
            ],
            [
             0.7777777777777778,
             "#fb9f3a"
            ],
            [
             0.8888888888888888,
             "#fdca26"
            ],
            [
             1,
             "#f0f921"
            ]
           ],
           "sequentialminus": [
            [
             0,
             "#0d0887"
            ],
            [
             0.1111111111111111,
             "#46039f"
            ],
            [
             0.2222222222222222,
             "#7201a8"
            ],
            [
             0.3333333333333333,
             "#9c179e"
            ],
            [
             0.4444444444444444,
             "#bd3786"
            ],
            [
             0.5555555555555556,
             "#d8576b"
            ],
            [
             0.6666666666666666,
             "#ed7953"
            ],
            [
             0.7777777777777778,
             "#fb9f3a"
            ],
            [
             0.8888888888888888,
             "#fdca26"
            ],
            [
             1,
             "#f0f921"
            ]
           ]
          },
          "colorway": [
           "#636efa",
           "#EF553B",
           "#00cc96",
           "#ab63fa",
           "#FFA15A",
           "#19d3f3",
           "#FF6692",
           "#B6E880",
           "#FF97FF",
           "#FECB52"
          ],
          "font": {
           "color": "#2a3f5f"
          },
          "geo": {
           "bgcolor": "white",
           "lakecolor": "white",
           "landcolor": "#E5ECF6",
           "showlakes": true,
           "showland": true,
           "subunitcolor": "white"
          },
          "hoverlabel": {
           "align": "left"
          },
          "hovermode": "closest",
          "mapbox": {
           "style": "light"
          },
          "paper_bgcolor": "white",
          "plot_bgcolor": "#E5ECF6",
          "polar": {
           "angularaxis": {
            "gridcolor": "white",
            "linecolor": "white",
            "ticks": ""
           },
           "bgcolor": "#E5ECF6",
           "radialaxis": {
            "gridcolor": "white",
            "linecolor": "white",
            "ticks": ""
           }
          },
          "scene": {
           "xaxis": {
            "backgroundcolor": "#E5ECF6",
            "gridcolor": "white",
            "gridwidth": 2,
            "linecolor": "white",
            "showbackground": true,
            "ticks": "",
            "zerolinecolor": "white"
           },
           "yaxis": {
            "backgroundcolor": "#E5ECF6",
            "gridcolor": "white",
            "gridwidth": 2,
            "linecolor": "white",
            "showbackground": true,
            "ticks": "",
            "zerolinecolor": "white"
           },
           "zaxis": {
            "backgroundcolor": "#E5ECF6",
            "gridcolor": "white",
            "gridwidth": 2,
            "linecolor": "white",
            "showbackground": true,
            "ticks": "",
            "zerolinecolor": "white"
           }
          },
          "shapedefaults": {
           "line": {
            "color": "#2a3f5f"
           }
          },
          "ternary": {
           "aaxis": {
            "gridcolor": "white",
            "linecolor": "white",
            "ticks": ""
           },
           "baxis": {
            "gridcolor": "white",
            "linecolor": "white",
            "ticks": ""
           },
           "bgcolor": "#E5ECF6",
           "caxis": {
            "gridcolor": "white",
            "linecolor": "white",
            "ticks": ""
           }
          },
          "title": {
           "x": 0.05
          },
          "xaxis": {
           "automargin": true,
           "gridcolor": "white",
           "linecolor": "white",
           "ticks": "",
           "zerolinecolor": "white",
           "zerolinewidth": 2
          },
          "yaxis": {
           "automargin": true,
           "gridcolor": "white",
           "linecolor": "white",
           "ticks": "",
           "zerolinecolor": "white",
           "zerolinewidth": 2
          }
         }
        },
        "xaxis": {
         "anchor": "y",
         "domain": [
          0,
          0.98
         ],
         "title": {
          "text": "Class"
         }
        },
        "yaxis": {
         "anchor": "x",
         "domain": [
          0,
          1
         ],
         "title": {
          "text": "Count"
         }
        }
       }
      },
      "text/html": [
       "<div>\n",
       "        \n",
       "        \n",
       "            <div id=\"47f32da4-3364-45ba-8fa1-8b9db1dc05ee\" class=\"plotly-graph-div\" style=\"height:600px; width:100%;\"></div>\n",
       "            <script type=\"text/javascript\">\n",
       "                require([\"plotly\"], function(Plotly) {\n",
       "                    window.PLOTLYENV=window.PLOTLYENV || {};\n",
       "                    \n",
       "                if (document.getElementById(\"47f32da4-3364-45ba-8fa1-8b9db1dc05ee\")) {\n",
       "                    Plotly.newPlot(\n",
       "                        '47f32da4-3364-45ba-8fa1-8b9db1dc05ee',\n",
       "                        [{\"alignmentgroup\": \"True\", \"hoverlabel\": {\"namelength\": 0}, \"hovertemplate\": \"color=#1f77b4<br>Class=%{x}<br>Count=%{y}\", \"legendgroup\": \"color=#1f77b4\", \"marker\": {\"color\": \"#636efa\"}, \"name\": \"color=#1f77b4\", \"offsetgroup\": \"color=#1f77b4\", \"orientation\": \"v\", \"showlegend\": true, \"textposition\": \"auto\", \"type\": \"bar\", \"x\": [\"C\"], \"xaxis\": \"x\", \"y\": [13], \"yaxis\": \"y\"}, {\"alignmentgroup\": \"True\", \"hoverlabel\": {\"namelength\": 0}, \"hovertemplate\": \"color=#ff7f0e<br>Class=%{x}<br>Count=%{y}\", \"legendgroup\": \"color=#ff7f0e\", \"marker\": {\"color\": \"#EF553B\"}, \"name\": \"color=#ff7f0e\", \"offsetgroup\": \"color=#ff7f0e\", \"orientation\": \"v\", \"showlegend\": true, \"textposition\": \"auto\", \"type\": \"bar\", \"x\": [\"S\"], \"xaxis\": \"x\", \"y\": [6], \"yaxis\": \"y\"}, {\"alignmentgroup\": \"True\", \"hoverlabel\": {\"namelength\": 0}, \"hovertemplate\": \"color=#2ca02c<br>Class=%{x}<br>Count=%{y}\", \"legendgroup\": \"color=#2ca02c\", \"marker\": {\"color\": \"#00cc96\"}, \"name\": \"color=#2ca02c\", \"offsetgroup\": \"color=#2ca02c\", \"orientation\": \"v\", \"showlegend\": true, \"textposition\": \"auto\", \"type\": \"bar\", \"x\": [\"G\"], \"xaxis\": \"x\", \"y\": [3], \"yaxis\": \"y\"}, {\"alignmentgroup\": \"True\", \"hoverlabel\": {\"namelength\": 0}, \"hovertemplate\": \"color=#d62728<br>Class=%{x}<br>Count=%{y}\", \"legendgroup\": \"color=#d62728\", \"marker\": {\"color\": \"#ab63fa\"}, \"name\": \"color=#d62728\", \"offsetgroup\": \"color=#d62728\", \"orientation\": \"v\", \"showlegend\": true, \"textposition\": \"auto\", \"type\": \"bar\", \"x\": [\"B\"], \"xaxis\": \"x\", \"y\": [2], \"yaxis\": \"y\"}, {\"alignmentgroup\": \"True\", \"hoverlabel\": {\"namelength\": 0}, \"hovertemplate\": \"color=#9467bd<br>Class=%{x}<br>Count=%{y}\", \"legendgroup\": \"color=#9467bd\", \"marker\": {\"color\": \"#FFA15A\"}, \"name\": \"color=#9467bd\", \"offsetgroup\": \"color=#9467bd\", \"orientation\": \"v\", \"showlegend\": true, \"textposition\": \"auto\", \"type\": \"bar\", \"x\": [\"V\"], \"xaxis\": \"x\", \"y\": [1], \"yaxis\": \"y\"}, {\"alignmentgroup\": \"True\", \"hoverlabel\": {\"namelength\": 0}, \"hovertemplate\": \"color=#8c564b<br>Class=%{x}<br>Count=%{y}\", \"legendgroup\": \"color=#8c564b\", \"marker\": {\"color\": \"#19d3f3\"}, \"name\": \"color=#8c564b\", \"offsetgroup\": \"color=#8c564b\", \"orientation\": \"v\", \"showlegend\": true, \"textposition\": \"auto\", \"type\": \"bar\", \"x\": [\"M\"], \"xaxis\": \"x\", \"y\": [1], \"yaxis\": \"y\"}, {\"alignmentgroup\": \"True\", \"hoverlabel\": {\"namelength\": 0}, \"hovertemplate\": \"color=#e377c2<br>Class=%{x}<br>Count=%{y}\", \"legendgroup\": \"color=#e377c2\", \"marker\": {\"color\": \"#FF6692\"}, \"name\": \"color=#e377c2\", \"offsetgroup\": \"color=#e377c2\", \"orientation\": \"v\", \"showlegend\": true, \"textposition\": \"auto\", \"type\": \"bar\", \"x\": [\"C/P/X\"], \"xaxis\": \"x\", \"y\": [1], \"yaxis\": \"y\"}, {\"alignmentgroup\": \"True\", \"hoverlabel\": {\"namelength\": 0}, \"hovertemplate\": \"color=#7f7f7f<br>Class=%{x}<br>Count=%{y}\", \"legendgroup\": \"color=#7f7f7f\", \"marker\": {\"color\": \"#B6E880\"}, \"name\": \"color=#7f7f7f\", \"offsetgroup\": \"color=#7f7f7f\", \"orientation\": \"v\", \"showlegend\": true, \"textposition\": \"auto\", \"type\": \"bar\", \"x\": [\"X\"], \"xaxis\": \"x\", \"y\": [1], \"yaxis\": \"y\"}, {\"alignmentgroup\": \"True\", \"hoverlabel\": {\"namelength\": 0}, \"hovertemplate\": \"color=#bcbd22<br>Class=%{x}<br>Count=%{y}\", \"legendgroup\": \"color=#bcbd22\", \"marker\": {\"color\": \"#FF97FF\"}, \"name\": \"color=#bcbd22\", \"offsetgroup\": \"color=#bcbd22\", \"orientation\": \"v\", \"showlegend\": true, \"textposition\": \"auto\", \"type\": \"bar\", \"x\": [\"F\"], \"xaxis\": \"x\", \"y\": [1], \"yaxis\": \"y\"}],\n",
       "                        {\"barmode\": \"relative\", \"height\": 600, \"legend\": {\"tracegroupgap\": 0}, \"margin\": {\"t\": 60}, \"showlegend\": false, \"template\": {\"data\": {\"bar\": [{\"error_x\": {\"color\": \"#2a3f5f\"}, \"error_y\": {\"color\": \"#2a3f5f\"}, \"marker\": {\"line\": {\"color\": \"#E5ECF6\", \"width\": 0.5}}, \"type\": \"bar\"}], \"barpolar\": [{\"marker\": {\"line\": {\"color\": \"#E5ECF6\", \"width\": 0.5}}, \"type\": \"barpolar\"}], \"carpet\": [{\"aaxis\": {\"endlinecolor\": \"#2a3f5f\", \"gridcolor\": \"white\", \"linecolor\": \"white\", \"minorgridcolor\": \"white\", \"startlinecolor\": \"#2a3f5f\"}, \"baxis\": {\"endlinecolor\": \"#2a3f5f\", \"gridcolor\": \"white\", \"linecolor\": \"white\", \"minorgridcolor\": \"white\", \"startlinecolor\": \"#2a3f5f\"}, \"type\": \"carpet\"}], \"choropleth\": [{\"colorbar\": {\"outlinewidth\": 0, \"ticks\": \"\"}, \"type\": \"choropleth\"}], \"contour\": [{\"colorbar\": {\"outlinewidth\": 0, \"ticks\": \"\"}, \"colorscale\": [[0.0, \"#0d0887\"], [0.1111111111111111, \"#46039f\"], [0.2222222222222222, \"#7201a8\"], [0.3333333333333333, \"#9c179e\"], [0.4444444444444444, \"#bd3786\"], [0.5555555555555556, \"#d8576b\"], [0.6666666666666666, \"#ed7953\"], [0.7777777777777778, \"#fb9f3a\"], [0.8888888888888888, \"#fdca26\"], [1.0, \"#f0f921\"]], \"type\": \"contour\"}], \"contourcarpet\": [{\"colorbar\": {\"outlinewidth\": 0, \"ticks\": \"\"}, \"type\": \"contourcarpet\"}], \"heatmap\": [{\"colorbar\": {\"outlinewidth\": 0, \"ticks\": \"\"}, \"colorscale\": [[0.0, \"#0d0887\"], [0.1111111111111111, \"#46039f\"], [0.2222222222222222, \"#7201a8\"], [0.3333333333333333, \"#9c179e\"], [0.4444444444444444, \"#bd3786\"], [0.5555555555555556, \"#d8576b\"], [0.6666666666666666, \"#ed7953\"], [0.7777777777777778, \"#fb9f3a\"], [0.8888888888888888, \"#fdca26\"], [1.0, \"#f0f921\"]], \"type\": \"heatmap\"}], \"heatmapgl\": [{\"colorbar\": {\"outlinewidth\": 0, \"ticks\": \"\"}, \"colorscale\": [[0.0, \"#0d0887\"], [0.1111111111111111, \"#46039f\"], [0.2222222222222222, \"#7201a8\"], [0.3333333333333333, \"#9c179e\"], [0.4444444444444444, \"#bd3786\"], [0.5555555555555556, \"#d8576b\"], [0.6666666666666666, \"#ed7953\"], [0.7777777777777778, \"#fb9f3a\"], [0.8888888888888888, \"#fdca26\"], [1.0, \"#f0f921\"]], \"type\": \"heatmapgl\"}], \"histogram\": [{\"marker\": {\"colorbar\": {\"outlinewidth\": 0, \"ticks\": \"\"}}, \"type\": \"histogram\"}], \"histogram2d\": [{\"colorbar\": {\"outlinewidth\": 0, \"ticks\": \"\"}, \"colorscale\": [[0.0, \"#0d0887\"], [0.1111111111111111, \"#46039f\"], [0.2222222222222222, \"#7201a8\"], [0.3333333333333333, \"#9c179e\"], [0.4444444444444444, \"#bd3786\"], [0.5555555555555556, \"#d8576b\"], [0.6666666666666666, \"#ed7953\"], [0.7777777777777778, \"#fb9f3a\"], [0.8888888888888888, \"#fdca26\"], [1.0, \"#f0f921\"]], \"type\": \"histogram2d\"}], \"histogram2dcontour\": [{\"colorbar\": {\"outlinewidth\": 0, \"ticks\": \"\"}, \"colorscale\": [[0.0, \"#0d0887\"], [0.1111111111111111, \"#46039f\"], [0.2222222222222222, \"#7201a8\"], [0.3333333333333333, \"#9c179e\"], [0.4444444444444444, \"#bd3786\"], [0.5555555555555556, \"#d8576b\"], [0.6666666666666666, \"#ed7953\"], [0.7777777777777778, \"#fb9f3a\"], [0.8888888888888888, \"#fdca26\"], [1.0, \"#f0f921\"]], \"type\": \"histogram2dcontour\"}], \"mesh3d\": [{\"colorbar\": {\"outlinewidth\": 0, \"ticks\": \"\"}, \"type\": \"mesh3d\"}], \"parcoords\": [{\"line\": {\"colorbar\": {\"outlinewidth\": 0, \"ticks\": \"\"}}, \"type\": \"parcoords\"}], \"scatter\": [{\"marker\": {\"colorbar\": {\"outlinewidth\": 0, \"ticks\": \"\"}}, \"type\": \"scatter\"}], \"scatter3d\": [{\"line\": {\"colorbar\": {\"outlinewidth\": 0, \"ticks\": \"\"}}, \"marker\": {\"colorbar\": {\"outlinewidth\": 0, \"ticks\": \"\"}}, \"type\": \"scatter3d\"}], \"scattercarpet\": [{\"marker\": {\"colorbar\": {\"outlinewidth\": 0, \"ticks\": \"\"}}, \"type\": \"scattercarpet\"}], \"scattergeo\": [{\"marker\": {\"colorbar\": {\"outlinewidth\": 0, \"ticks\": \"\"}}, \"type\": \"scattergeo\"}], \"scattergl\": [{\"marker\": {\"colorbar\": {\"outlinewidth\": 0, \"ticks\": \"\"}}, \"type\": \"scattergl\"}], \"scattermapbox\": [{\"marker\": {\"colorbar\": {\"outlinewidth\": 0, \"ticks\": \"\"}}, \"type\": \"scattermapbox\"}], \"scatterpolar\": [{\"marker\": {\"colorbar\": {\"outlinewidth\": 0, \"ticks\": \"\"}}, \"type\": \"scatterpolar\"}], \"scatterpolargl\": [{\"marker\": {\"colorbar\": {\"outlinewidth\": 0, \"ticks\": \"\"}}, \"type\": \"scatterpolargl\"}], \"scatterternary\": [{\"marker\": {\"colorbar\": {\"outlinewidth\": 0, \"ticks\": \"\"}}, \"type\": \"scatterternary\"}], \"surface\": [{\"colorbar\": {\"outlinewidth\": 0, \"ticks\": \"\"}, \"colorscale\": [[0.0, \"#0d0887\"], [0.1111111111111111, \"#46039f\"], [0.2222222222222222, \"#7201a8\"], [0.3333333333333333, \"#9c179e\"], [0.4444444444444444, \"#bd3786\"], [0.5555555555555556, \"#d8576b\"], [0.6666666666666666, \"#ed7953\"], [0.7777777777777778, \"#fb9f3a\"], [0.8888888888888888, \"#fdca26\"], [1.0, \"#f0f921\"]], \"type\": \"surface\"}], \"table\": [{\"cells\": {\"fill\": {\"color\": \"#EBF0F8\"}, \"line\": {\"color\": \"white\"}}, \"header\": {\"fill\": {\"color\": \"#C8D4E3\"}, \"line\": {\"color\": \"white\"}}, \"type\": \"table\"}]}, \"layout\": {\"annotationdefaults\": {\"arrowcolor\": \"#2a3f5f\", \"arrowhead\": 0, \"arrowwidth\": 1}, \"colorscale\": {\"diverging\": [[0, \"#8e0152\"], [0.1, \"#c51b7d\"], [0.2, \"#de77ae\"], [0.3, \"#f1b6da\"], [0.4, \"#fde0ef\"], [0.5, \"#f7f7f7\"], [0.6, \"#e6f5d0\"], [0.7, \"#b8e186\"], [0.8, \"#7fbc41\"], [0.9, \"#4d9221\"], [1, \"#276419\"]], \"sequential\": [[0.0, \"#0d0887\"], [0.1111111111111111, \"#46039f\"], [0.2222222222222222, \"#7201a8\"], [0.3333333333333333, \"#9c179e\"], [0.4444444444444444, \"#bd3786\"], [0.5555555555555556, \"#d8576b\"], [0.6666666666666666, \"#ed7953\"], [0.7777777777777778, \"#fb9f3a\"], [0.8888888888888888, \"#fdca26\"], [1.0, \"#f0f921\"]], \"sequentialminus\": [[0.0, \"#0d0887\"], [0.1111111111111111, \"#46039f\"], [0.2222222222222222, \"#7201a8\"], [0.3333333333333333, \"#9c179e\"], [0.4444444444444444, \"#bd3786\"], [0.5555555555555556, \"#d8576b\"], [0.6666666666666666, \"#ed7953\"], [0.7777777777777778, \"#fb9f3a\"], [0.8888888888888888, \"#fdca26\"], [1.0, \"#f0f921\"]]}, \"colorway\": [\"#636efa\", \"#EF553B\", \"#00cc96\", \"#ab63fa\", \"#FFA15A\", \"#19d3f3\", \"#FF6692\", \"#B6E880\", \"#FF97FF\", \"#FECB52\"], \"font\": {\"color\": \"#2a3f5f\"}, \"geo\": {\"bgcolor\": \"white\", \"lakecolor\": \"white\", \"landcolor\": \"#E5ECF6\", \"showlakes\": true, \"showland\": true, \"subunitcolor\": \"white\"}, \"hoverlabel\": {\"align\": \"left\"}, \"hovermode\": \"closest\", \"mapbox\": {\"style\": \"light\"}, \"paper_bgcolor\": \"white\", \"plot_bgcolor\": \"#E5ECF6\", \"polar\": {\"angularaxis\": {\"gridcolor\": \"white\", \"linecolor\": \"white\", \"ticks\": \"\"}, \"bgcolor\": \"#E5ECF6\", \"radialaxis\": {\"gridcolor\": \"white\", \"linecolor\": \"white\", \"ticks\": \"\"}}, \"scene\": {\"xaxis\": {\"backgroundcolor\": \"#E5ECF6\", \"gridcolor\": \"white\", \"gridwidth\": 2, \"linecolor\": \"white\", \"showbackground\": true, \"ticks\": \"\", \"zerolinecolor\": \"white\"}, \"yaxis\": {\"backgroundcolor\": \"#E5ECF6\", \"gridcolor\": \"white\", \"gridwidth\": 2, \"linecolor\": \"white\", \"showbackground\": true, \"ticks\": \"\", \"zerolinecolor\": \"white\"}, \"zaxis\": {\"backgroundcolor\": \"#E5ECF6\", \"gridcolor\": \"white\", \"gridwidth\": 2, \"linecolor\": \"white\", \"showbackground\": true, \"ticks\": \"\", \"zerolinecolor\": \"white\"}}, \"shapedefaults\": {\"line\": {\"color\": \"#2a3f5f\"}}, \"ternary\": {\"aaxis\": {\"gridcolor\": \"white\", \"linecolor\": \"white\", \"ticks\": \"\"}, \"baxis\": {\"gridcolor\": \"white\", \"linecolor\": \"white\", \"ticks\": \"\"}, \"bgcolor\": \"#E5ECF6\", \"caxis\": {\"gridcolor\": \"white\", \"linecolor\": \"white\", \"ticks\": \"\"}}, \"title\": {\"x\": 0.05}, \"xaxis\": {\"automargin\": true, \"gridcolor\": \"white\", \"linecolor\": \"white\", \"ticks\": \"\", \"zerolinecolor\": \"white\", \"zerolinewidth\": 2}, \"yaxis\": {\"automargin\": true, \"gridcolor\": \"white\", \"linecolor\": \"white\", \"ticks\": \"\", \"zerolinecolor\": \"white\", \"zerolinewidth\": 2}}}, \"xaxis\": {\"anchor\": \"y\", \"domain\": [0.0, 0.98], \"title\": {\"text\": \"Class\"}}, \"yaxis\": {\"anchor\": \"x\", \"domain\": [0.0, 1.0], \"title\": {\"text\": \"Count\"}}},\n",
       "                        {\"responsive\": true}\n",
       "                    ).then(function(){\n",
       "                            \n",
       "var gd = document.getElementById('47f32da4-3364-45ba-8fa1-8b9db1dc05ee');\n",
       "var x = new MutationObserver(function (mutations, observer) {{\n",
       "        var display = window.getComputedStyle(gd).display;\n",
       "        if (!display || display === 'none') {{\n",
       "            console.log([gd, 'removed!']);\n",
       "            Plotly.purge(gd);\n",
       "            observer.disconnect();\n",
       "        }}\n",
       "}});\n",
       "\n",
       "// Listen for the removal of the full notebook cells\n",
       "var notebookContainer = gd.closest('#notebook-container');\n",
       "if (notebookContainer) {{\n",
       "    x.observe(notebookContainer, {childList: true});\n",
       "}}\n",
       "\n",
       "// Listen for the clearing of the current output cell\n",
       "var outputEl = gd.closest('.output');\n",
       "if (outputEl) {{\n",
       "    x.observe(outputEl, {childList: true});\n",
       "}}\n",
       "\n",
       "                        })\n",
       "                };\n",
       "                });\n",
       "            </script>\n",
       "        </div>"
      ]
     },
     "metadata": {},
     "output_type": "display_data"
    }
   ],
   "source": [
    "freq = dict(merge['Class'].value_counts())\n",
    "freq = pd.DataFrame(list(freq.items()), columns=['Class', 'Count'])\n",
    "figure = px.bar(freq, x=\"Class\", y=\"Count\", color=[\n",
    "    '#1f77b4',  # muted blue\n",
    "    '#ff7f0e',  # safety orange\n",
    "    '#2ca02c',  # cooked asparagus green\n",
    "    '#d62728',  # brick red\n",
    "    '#9467bd',  # muted purple\n",
    "    '#8c564b',  # chestnut brown\n",
    "    '#e377c2',  # raspberry yogurt pink\n",
    "    '#7f7f7f',  # middle gray\n",
    "    '#bcbd22',  # curry yellow-green\n",
    "])\n",
    "figure.update_layout(showlegend=False)"
   ]
  },
  {
   "cell_type": "code",
   "execution_count": 18,
   "metadata": {},
   "outputs": [
    {
     "data": {
      "text/html": [
       "<div>\n",
       "<style scoped>\n",
       "    .dataframe tbody tr th:only-of-type {\n",
       "        vertical-align: middle;\n",
       "    }\n",
       "\n",
       "    .dataframe tbody tr th {\n",
       "        vertical-align: top;\n",
       "    }\n",
       "\n",
       "    .dataframe thead th {\n",
       "        text-align: right;\n",
       "    }\n",
       "</style>\n",
       "<table border=\"1\" class=\"dataframe\">\n",
       "  <thead>\n",
       "    <tr style=\"text-align: right;\">\n",
       "      <th></th>\n",
       "      <th>index</th>\n",
       "      <th>full_name</th>\n",
       "      <th>Est_Value</th>\n",
       "      <th>Est_Profit</th>\n",
       "      <th>kmpersec</th>\n",
       "      <th>Composition</th>\n",
       "    </tr>\n",
       "  </thead>\n",
       "  <tbody>\n",
       "    <tr>\n",
       "      <th>0</th>\n",
       "      <td>0</td>\n",
       "      <td>Ryugu</td>\n",
       "      <td>83</td>\n",
       "      <td>30</td>\n",
       "      <td>4.663</td>\n",
       "      <td>Nickel, iron, cobalt, water, nitrogen, hydroge...</td>\n",
       "    </tr>\n",
       "    <tr>\n",
       "      <th>1</th>\n",
       "      <td>1</td>\n",
       "      <td>1989 ML</td>\n",
       "      <td>14</td>\n",
       "      <td>4</td>\n",
       "      <td>4.889</td>\n",
       "      <td>Nickel, iron, cobalt</td>\n",
       "    </tr>\n",
       "    <tr>\n",
       "      <th>2</th>\n",
       "      <td>2</td>\n",
       "      <td>Nereus</td>\n",
       "      <td>5</td>\n",
       "      <td>1</td>\n",
       "      <td>4.987</td>\n",
       "      <td>Nickel, iron, cobalt</td>\n",
       "    </tr>\n",
       "    <tr>\n",
       "      <th>3</th>\n",
       "      <td>3</td>\n",
       "      <td>Bennu</td>\n",
       "      <td>0.7</td>\n",
       "      <td>0.2</td>\n",
       "      <td>5.096</td>\n",
       "      <td>Iron, hydrogen, ammonia, nitrogen</td>\n",
       "    </tr>\n",
       "    <tr>\n",
       "      <th>4</th>\n",
       "      <td>4</td>\n",
       "      <td>Didymos</td>\n",
       "      <td>62</td>\n",
       "      <td>16</td>\n",
       "      <td>5.162</td>\n",
       "      <td>Nickel, iron, cobalt</td>\n",
       "    </tr>\n",
       "    <tr>\n",
       "      <th>5</th>\n",
       "      <td>5</td>\n",
       "      <td>2011 UW158</td>\n",
       "      <td>7</td>\n",
       "      <td>2</td>\n",
       "      <td>5.189</td>\n",
       "      <td>Platinum, nickel, iron, cobalt</td>\n",
       "    </tr>\n",
       "    <tr>\n",
       "      <th>6</th>\n",
       "      <td>6</td>\n",
       "      <td>Anteros</td>\n",
       "      <td>5,570</td>\n",
       "      <td>1,250</td>\n",
       "      <td>5.440</td>\n",
       "      <td>Magnesium silicate, aluminum, iron silicate</td>\n",
       "    </tr>\n",
       "    <tr>\n",
       "      <th>7</th>\n",
       "      <td>7</td>\n",
       "      <td>2001 CC21</td>\n",
       "      <td>147</td>\n",
       "      <td>30</td>\n",
       "      <td>5.636</td>\n",
       "      <td>Magnesium silicate, aluminum, iron silicate</td>\n",
       "    </tr>\n",
       "    <tr>\n",
       "      <th>8</th>\n",
       "      <td>8</td>\n",
       "      <td>1992 TC</td>\n",
       "      <td>84</td>\n",
       "      <td>17</td>\n",
       "      <td>5.648</td>\n",
       "      <td>Nickel, iron, cobalt</td>\n",
       "    </tr>\n",
       "    <tr>\n",
       "      <th>9</th>\n",
       "      <td>9</td>\n",
       "      <td>2001 SG10</td>\n",
       "      <td>3</td>\n",
       "      <td>0.5</td>\n",
       "      <td>5.880</td>\n",
       "      <td>Nickel, iron, cobalt</td>\n",
       "    </tr>\n",
       "    <tr>\n",
       "      <th>10</th>\n",
       "      <td>10</td>\n",
       "      <td>Psyche</td>\n",
       "      <td>27.67</td>\n",
       "      <td>1.78</td>\n",
       "      <td>NaN</td>\n",
       "      <td>Nickel, iron, cobalt, gold [58]</td>\n",
       "    </tr>\n",
       "  </tbody>\n",
       "</table>\n",
       "</div>"
      ],
      "text/plain": [
       "    index   full_name Est_Value Est_Profit  kmpersec  \\\n",
       "0       0       Ryugu        83         30     4.663   \n",
       "1       1     1989 ML        14          4     4.889   \n",
       "2       2      Nereus         5          1     4.987   \n",
       "3       3       Bennu       0.7        0.2     5.096   \n",
       "4       4     Didymos        62         16     5.162   \n",
       "5       5  2011 UW158         7          2     5.189   \n",
       "6       6     Anteros     5,570      1,250     5.440   \n",
       "7       7   2001 CC21       147         30     5.636   \n",
       "8       8     1992 TC        84         17     5.648   \n",
       "9       9   2001 SG10         3        0.5     5.880   \n",
       "10     10      Psyche     27.67       1.78       NaN   \n",
       "\n",
       "                                          Composition  \n",
       "0   Nickel, iron, cobalt, water, nitrogen, hydroge...  \n",
       "1                                Nickel, iron, cobalt  \n",
       "2                                Nickel, iron, cobalt  \n",
       "3                   Iron, hydrogen, ammonia, nitrogen  \n",
       "4                                Nickel, iron, cobalt  \n",
       "5                      Platinum, nickel, iron, cobalt  \n",
       "6         Magnesium silicate, aluminum, iron silicate  \n",
       "7         Magnesium silicate, aluminum, iron silicate  \n",
       "8                                Nickel, iron, cobalt  \n",
       "9                                Nickel, iron, cobalt  \n",
       "10                    Nickel, iron, cobalt, gold [58]  "
      ]
     },
     "execution_count": 18,
     "metadata": {},
     "output_type": "execute_result"
    }
   ],
   "source": [
    "apvdf = apvdf.rename(columns={\"Asteroid\": \"full_name\"})\n",
    "apvdf.head(11)"
   ]
  },
  {
   "cell_type": "code",
   "execution_count": 27,
   "metadata": {},
   "outputs": [
    {
     "data": {
      "image/png": "[encoded data removed]",
      "text/plain": [
       "<Figure size 432x288 with 1 Axes>"
      ]
     },
     "metadata": {},
     "output_type": "display_data"
    }
   ],
   "source": [
    "elements = {'Nickel': 0, 'iron': 0 , 'ammonia':0,'cobalt': 0, 'water': 0, 'silicate':0, 'Platinum': 0, 'nitrogen':0,'gold': 0}\n",
    "for i in elements.keys():\n",
    "    for j in apvdf.values:\n",
    "        if i in j[-1]:\n",
    "            elements[i] +=1\n",
    "\n",
    "size_of_comp = [float(x) for x in elements.values()]\n",
    "label = [str(x) for x in elements.keys()]\n",
    "f =plt.pie(size_of_comp, labels=label, startangle=90)\n",
    "circle = plt.Circle((0,0), 0.7, color='white')\n",
    "p=plt.gcf()\n",
    "p.gca().add_artist(circle)"
   ]
  },
  {
   "cell_type": "code",
   "execution_count": 19,
   "metadata": {},
   "outputs": [
    {
     "data": {
      "text/plain": [
       "'162173 Ryugu (1999 JU3)'"
      ]
     },
     "execution_count": 19,
     "metadata": {},
     "output_type": "execute_result"
    }
   ],
   "source": [
    "mining = []\n",
    "for j in apvdf.values:\n",
    "    for i in rnvdf.values:\n",
    "        if j[1] in i[1]:\n",
    "            mining.append(i)\n"
   ]
  },
  {
   "cell_type": "code",
   "execution_count": 36,
   "metadata": {},
   "outputs": [
    {
     "name": "stdout",
     "output_type": "stream",
     "text": [
      "[162172 '162173 Ryugu (1999 JU3)' 'Y' 3.70038 0.000638309\n",
      " 'Davide Farnocchia' 7.627000000000002 'Y']\n",
      "[10301 '10302 (1989 ML)' 'Y' 3.64912 0.0816366 'Otto Matic' 19.0 'N']\n",
      "[4659 '4660 Nereus (1982 DB)' 'Y' 3.09769 0.00315334 'Otto Matic' 15.1 'Y']\n",
      "[101954 '101955 Bennu (1999 RQ36)' 'Y' 3.87795 0.0032228 'Otto Matic'\n",
      " 4.297 'Y']\n",
      "[65802 '65803 Didymos (1996 GT)' 'Y' 3.16326 0.0397774 'Davide Farnocchia'\n",
      " 2.2593 'Y']\n",
      "[436723 '436724 (2011 UW158)' 'Y' 2.98443 0.00291383 'Otto Matic' 0.61073\n",
      " 'Y']\n",
      "[1942 '1943 Anteros (1973 EC)' 'Y' 3.1954700000000003 0.0622122\n",
      " 'Otto Matic' 2.86923 'N']\n",
      "[98942 '98943 (2001 CC21)' 'Y' 3.77049 0.0830667 'Otto Matic' 5.017 'N']\n",
      "[7473 '7474 (1992 TC)' 'Y' 3.44745 0.167212 'Otto Matic' 5.54 'N']\n",
      "[88785 '88786 (2001 SG107)' 'N' 2.54354 0.808813 'Otto Matic' nan 'N']\n",
      "[110061 '110062 (2001 SG108)' 'N' 2.4746200000000003 1.28768 'Otto Matic'\n",
      " 11.393 'N']\n",
      "[140063 '140064 (2001 SG105)' 'N' 2.23084 1.60907 'Otto Matic' nan 'N']\n",
      "[194005 '194006 (2001 SG10)' 'Y' 3.12641 0.017183 'Otto Matic' nan 'Y']\n",
      "[217904 '217905 (2001 SG109)' 'N' 2.6206 1.10826 'Otto Matic' nan 'N']\n",
      "[334165 '334166 (2001 SG104)' 'N' 2.6764 1.07413 'Otto Matic' nan 'N']\n",
      "[545813 '(2001 SG100)' 'N' 2.39405 1.25021 'Otto Matic' nan 'N']\n",
      "[545817 '(2001 SG102)' 'N' 2.17623 1.24276 'Otto Matic' nan 'N']\n",
      "[545819 '(2001 SG103)' 'N' 2.78095 0.729021 'Otto Matic' nan 'N']\n",
      "[15 '16 Psyche' 'N' 2.14428 1.5358 'Ryan S. Park' 4.1960000000000015 'N']\n"
     ]
    }
   ],
   "source": [
    "for j in mining:\n",
    "    for i in rnvdf.values:\n",
    "        if i[1] in j[1]:\n",
    "            print(i)"
   ]
  },
  {
   "cell_type": "code",
   "execution_count": 33,
   "metadata": {},
   "outputs": [
    {
     "data": {
      "text/plain": [
       "'Ryugu'"
      ]
     },
     "execution_count": 33,
     "metadata": {},
     "output_type": "execute_result"
    }
   ],
   "source": []
  },
  {
   "cell_type": "code",
   "execution_count": null,
   "metadata": {},
   "outputs": [],
   "source": []
  }
 ],
 "metadata": {
  "kernelspec": {
   "display_name": "Python 3",
   "language": "python",
   "name": "python3"
  },
  "language_info": {
   "codemirror_mode": {
    "name": "ipython",
    "version": 3
   },
   "file_extension": ".py",
   "mimetype": "text/x-python",
   "name": "python",
   "nbconvert_exporter": "python",
   "pygments_lexer": "ipython3",
   "version": "3.7.5"
  }
 },
 "nbformat": 4,
 "nbformat_minor": 2
}
